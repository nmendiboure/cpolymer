{
 "cells": [
  {
   "cell_type": "code",
   "execution_count": null,
   "metadata": {},
   "outputs": [],
   "source": []
  },
  {
   "cell_type": "markdown",
   "metadata": {},
   "source": [
    "# How to create a polymer eiffel tower"
   ]
  },
  {
   "cell_type": "markdown",
   "metadata": {},
   "source": [
    "<img src=\"https://raw.githubusercontent.com/jeammimi/cpolymer/master/notebook/images/animation.gif\" >"
   ]
  },
  {
   "cell_type": "code",
   "execution_count": 4,
   "metadata": {},
   "outputs": [
    {
     "name": "stdout",
     "output_type": "stream",
     "text": [
      "Reading template /home/jarbona/cpolymer/cpolymer/template/basic.txt\n"
     ]
    }
   ],
   "source": [
    "from cpolymer.constrain import Box,Point\n",
    "from cpolymer.polymer import Polymer\n",
    "from cpolymer.lsimu import LSimu\n",
    "\n",
    "Sim = LSimu()\n",
    "box = Box([-50,-50,-100],[50,50,100])\n",
    "Sim.add_box(box)\n",
    "\n",
    "N=35\n",
    "step=5\n",
    "start = Point(index=0,position=[-step,-step,-5])    \n",
    "end = Point(index=N-1,position=[0,0,12])\n",
    "angle_bond=True\n",
    "virtual_lp=4\n",
    "P1 = Polymer(N=N,lconstrain=[start,end],gconstrain=[box],angle_def={\"1-1-1\":[10,1]},angle_bond=True,virtual_lp=virtual_lp)\n",
    "start.position=[-step,step,-5]\n",
    "P2 = Polymer(N=N,lconstrain=[start,end],gconstrain=[box],angle_def={\"1-1-1\":[10,1]},angle_bond=True,virtual_lp=virtual_lp)\n",
    "start.position=[step,step,-5]\n",
    "P3 = Polymer(N=N,lconstrain=[start,end],gconstrain=[box],angle_def={\"1-1-1\":[10,1]},angle_bond=True,virtual_lp=virtual_lp)\n",
    "start.position=[step,-step,-5]\n",
    "P4 = Polymer(N=N,lconstrain=[start,end],gconstrain=[box],angle_def={\"1-1-1\":[10,1]},angle_bond=True,virtual_lp=virtual_lp)\n",
    "\n",
    "Sim.add(P1)\n",
    "Sim.add(P2)\n",
    "Sim.add(P3)\n",
    "Sim.add(P4)\n",
    "\n",
    "Na=15\n",
    "for i in range(Na):\n",
    "    Sim.add_extra_bond(mol1=[1,N-i],mol2=[4,N-i],typeb=1)\n",
    "    for mol in range(1,4):\n",
    "        Sim.add_extra_bond(mol1=[mol,N-i],mol2=[mol+1,N-i],typeb=1)#molecules[-1].extrabond.append([i,1,N-i,4*N-i])\n",
    "\n",
    "\n",
    "Nld=9\n",
    "start = Point(index=0,position=[-0.5*step,-0.5*step,-3])    \n",
    "end = Point(index=Nld-1,position=[-0.5*step,0.5*step,-3])\n",
    "\n",
    "L = Polymer(N=Nld,lconstrain=[start,end],gconstrain=[box],angle_def={\"1-1-1\":[10,1]},angle_bond=True)\n",
    "\n",
    "Sim.add(L)\n",
    "\n",
    "start = Point(index=0,position=[-0.5*step,0.5*step,-3])    \n",
    "end = Point(index=Nld-1,position=[0.5*step,0.5*step,-3])\n",
    "L = Polymer(N=Nld,lconstrain=[start,end],gconstrain=[box],angle_def={\"1-1-1\":[10,1]},angle_bond=True)\n",
    "Sim.add(L)\n",
    "\n",
    "start = Point(index=0,position=[0.5*step,0.5*step,-3])    \n",
    "end = Point(index=Nld-1,position=[0.5*step,-0.5*step,-3])\n",
    "L = Polymer(N=Nld,lconstrain=[start,end],gconstrain=[box],angle_def={\"1-1-1\":[10,1]},angle_bond=True)\n",
    "Sim.add(L)\n",
    "\n",
    "start = Point(index=0,position=[0.5*step,-0.5*step,-3])    \n",
    "end = Point(index=Nld-1,position=[-0.5*step,-0.5*step,-3])\n",
    "L = Polymer(N=Nld,lconstrain=[start,end],gconstrain=[box],angle_def={\"1-1-1\":[10,1]},angle_bond=True)\n",
    "Sim.add(L)\n",
    "\n",
    "Sim.add_extra_bond(mol1=[5,1],mol2=[1,10],typeb=1)\n",
    "Sim.add_extra_bond(mol1=[5,Nld],mol2=[2,10],typeb=1)\n",
    "\n",
    "Sim.add_extra_bond(mol1=[6,1],mol2=[2,10],typeb=1)\n",
    "Sim.add_extra_bond(mol1=[6,Nld],mol2=[3,10],typeb=1)\n",
    "\n",
    "Sim.add_extra_bond(mol1=[7,1],mol2=[3,10],typeb=1)\n",
    "Sim.add_extra_bond(mol1=[7,Nld],mol2=[4,10],typeb=1)\n",
    "\n",
    "Sim.add_extra_bond(mol1=[8,1],mol2=[4,10],typeb=1)\n",
    "Sim.add_extra_bond(mol1=[8,Nld],mol2=[1,10],typeb=1)\n",
    "\n",
    "\n",
    "\n",
    "Nld=5\n",
    "\n",
    "start = Point(index=0,position=[-0.2*step,-0.2*step,-1])    \n",
    "end = Point(index=Nld-1,position=[-0.2*step,0.2*step,-1])\n",
    "\n",
    "L = Polymer(N=Nld,lconstrain=[start,end],gconstrain=[box],angle_def={\"1-1-1\":[10,1]},angle_bond=True)\n",
    "\n",
    "Sim.add(L)\n",
    "\n",
    "start = Point(index=0,position=[-0.2*step,0.2*step,-1])    \n",
    "end = Point(index=Nld-1,position=[0.2*step,0.2*step,-1])\n",
    "L = Polymer(N=Nld,lconstrain=[start,end],gconstrain=[box],angle_def={\"1-1-1\":[10,1]},angle_bond=True)\n",
    "Sim.add(L)\n",
    "\n",
    "\n",
    "start = Point(index=0,position=[0.2*step,0.2*step,-1])    \n",
    "end = Point(index=Nld-1,position=[0.2*step,-0.2*step,-1])\n",
    "L = Polymer(N=Nld,lconstrain=[start,end],gconstrain=[box],angle_def={\"1-1-1\":[10,1]},angle_bond=True)\n",
    "Sim.add(L)\n",
    "\n",
    "start = Point(index=0,position=[0.2*step,-0.2*step,-1])    \n",
    "end = Point(index=Nld-1,position=[-0.2*step,-0.2*step,-1])\n",
    "L = Polymer(N=Nld,lconstrain=[start,end],gconstrain=[box],angle_def={\"1-1-1\":[10,1]},angle_bond=True)\n",
    "Sim.add(L)\n",
    "\n",
    "\n",
    "Sim.add_extra_bond(mol1=[9,1],mol2=[1,15],typeb=1)\n",
    "Sim.add_extra_bond(mol1=[9,Nld],mol2=[2,15],typeb=1)\n",
    "\n",
    "Sim.add_extra_bond(mol1=[10,1],mol2=[2,15],typeb=1)\n",
    "Sim.add_extra_bond(mol1=[10,Nld],mol2=[3,15],typeb=1)\n",
    "\n",
    "Sim.add_extra_bond(mol1=[11,1],mol2=[3,15],typeb=1)\n",
    "Sim.add_extra_bond(mol1=[11,Nld],mol2=[4,15],typeb=1)\n",
    "\n",
    "Sim.add_extra_bond(mol1=[12,1],mol2=[4,15],typeb=1)\n",
    "Sim.add_extra_bond(mol1=[12,Nld],mol2=[1,15],typeb=1)\n",
    "\n",
    "\n",
    "\n",
    "rep = \"./\"\n",
    "Sim.add_bond(typeb=\"harmonic\",idbond=1,K=60,R0=1.)\n",
    "Sim.add_pair(typep=\"lj/cut\",idpair1=1,idpair2=1,epsilon=1,sigma=10,cutoff1=1.12)\n",
    "Sim.add_angle(typea=\"harmonic\",idangle=1,K=10,theta=180)\n",
    "    \n",
    "Sim.generate_xyz(rep + \"mix.xyz\",Mass=\"one\")\n",
    "Sim.generate_interactions(rep + \"interactions\")\n",
    "Sim.generate_pdb(rep + \"mix.pdb\")\n",
    "Sim.generate_script(rep+\"basic.txt\",run_length=5000,samplingrate=10,initconf=\"mix.xyz\",\n",
    "                     outtraj=\"out.dcd\",outfile=\"out.xyz\",interactions=\"interactions\",particle=\"1 2\"\n",
    "                     )\n",
    "#Sim.run(script=\"basic.txt\")\n"
   ]
  },
  {
   "cell_type": "code",
   "execution_count": 16,
   "metadata": {},
   "outputs": [
    {
     "name": "stdout",
     "output_type": "stream",
     "text": [
      "Circular(V(7.75, 0.0, 0.0), V(1.0, 0.0, 0.0), 1.984313483298443)\n"
     ]
    }
   ],
   "source": [
    "from halley.constrain import Spherical,Nowhere\n",
    "import halley.vectors ; from halley.vectors import *\n",
    "center = Spherical(V.O,radius=10)\n",
    "mt = Spherical(V(10,0,0),radius=3)\n",
    "depart = Spherical(V(0,0,0),radius=8)\n",
    "I = depart*mt\n",
    "print I"
   ]
  },
  {
   "cell_type": "code",
   "execution_count": 38,
   "metadata": {},
   "outputs": [
    {
     "name": "stdout",
     "output_type": "stream",
     "text": [
      "Warning no intersection for this size of polymer\n",
      "decreasing size\n"
     ]
    }
   ],
   "source": [
    "es = get_ref_points(snucleus=10,smicrotubule=3,l_len_p = [[4,5],[3.5,100]])"
   ]
  }
 ],
 "metadata": {
  "kernelspec": {
   "display_name": "Python 3 (ipykernel)",
   "language": "python",
   "name": "python3"
  },
  "language_info": {
   "codemirror_mode": {
    "name": "ipython",
    "version": 3
   },
   "file_extension": ".py",
   "mimetype": "text/x-python",
   "name": "python",
   "nbconvert_exporter": "python",
   "pygments_lexer": "ipython3",
   "version": "3.10.12"
  }
 },
 "nbformat": 4,
 "nbformat_minor": 1
}
